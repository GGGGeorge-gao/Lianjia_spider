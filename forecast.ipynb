{
 "cells": [
  {
   "cell_type": "code",
   "execution_count": 1,
   "metadata": {},
   "outputs": [],
   "source": [
    "import numpy as np\n",
    "import pandas as pd"
   ]
  },
  {
   "cell_type": "markdown",
   "metadata": {},
   "source": [
    "## 数据清洗\n",
    "   - 去除无用列\n",
    "   - 去除空值\n",
    "   - 将文本转换为对应数字分类"
   ]
  },
  {
   "cell_type": "code",
   "execution_count": 2,
   "metadata": {},
   "outputs": [],
   "source": [
    "soldinfo = pd.read_table('soldinfo.txt', sep='\\t')\n",
    "sellinfo = pd.read_table('sellinfo.txt', sep='\\t')\n",
    "\n",
    "'''去除无用的列'''\n",
    "soldinfo = soldinfo.drop(['unitPrice','schoolInfo', 'framePicUrl', 'titleString', 'resblockName', 'isGarage', 'bizcircleName', 'districtId', 'elevator', 'signTime'], axis=1)\n",
    "sellinfo = sellinfo.drop(['unitPrice','title', 'layoutImgSrc', 'schoolName', 'address', 'isGarage', 'roomNum', 'regionName', 'districtId', 'communityName', 'communityId', 'ctime'], axis=1)"
   ]
  },
  {
   "cell_type": "code",
   "execution_count": 3,
   "metadata": {},
   "outputs": [
    {
     "data": {
      "text/plain": [
       "houseCode           False\n",
       "signPrice           False\n",
       "listPrice           False\n",
       "dealCycle           False\n",
       "houseAreaNum        False\n",
       "year                 True\n",
       "buildingType        False\n",
       "frameOrientation    False\n",
       "decorationType      False\n",
       "districtName        False\n",
       "subwayInfo           True\n",
       "floorInfo           False\n",
       "longitude           False\n",
       "latitude            False\n",
       "dtype: bool"
      ]
     },
     "execution_count": 3,
     "metadata": {},
     "output_type": "execute_result"
    }
   ],
   "source": [
    "'''查看每列含有空值的情况'''\n",
    "soldinfo.isnull().any()"
   ]
  },
  {
   "cell_type": "code",
   "execution_count": 4,
   "metadata": {},
   "outputs": [
    {
     "data": {
      "text/plain": [
       "houseCode       False\n",
       "buildingArea    False\n",
       "buildYear        True\n",
       "orientation     False\n",
       "totalFloor      False\n",
       "decorateType    False\n",
       "hbtName         False\n",
       "districtName    False\n",
       "subwayInfo       True\n",
       "price           False\n",
       "longitude       False\n",
       "latitude        False\n",
       "dtype: bool"
      ]
     },
     "execution_count": 4,
     "metadata": {},
     "output_type": "execute_result"
    }
   ],
   "source": [
    "sellinfo.isnull().any()"
   ]
  },
  {
   "cell_type": "code",
   "execution_count": 5,
   "metadata": {},
   "outputs": [],
   "source": [
    "'''删除特定列的空值'''\n",
    "soldinfo = soldinfo.dropna(subset=['year'])\n",
    "sellinfo = sellinfo.dropna(subset=['buildYear'])\n",
    "\n",
    "'''部分列名统一'''\n",
    "sellinfo.rename(columns={'buildYear':'year', 'hbtName':'buildingType', 'decorateType':'decorationType'}, inplace=True)\n",
    "soldinfo.rename(columns={'frameOrientation':'orientation'}, inplace=True)"
   ]
  },
  {
   "cell_type": "code",
   "execution_count": 6,
   "metadata": {},
   "outputs": [
    {
     "data": {
      "text/html": [
       "<div>\n",
       "<style scoped>\n",
       "    .dataframe tbody tr th:only-of-type {\n",
       "        vertical-align: middle;\n",
       "    }\n",
       "\n",
       "    .dataframe tbody tr th {\n",
       "        vertical-align: top;\n",
       "    }\n",
       "\n",
       "    .dataframe thead th {\n",
       "        text-align: right;\n",
       "    }\n",
       "</style>\n",
       "<table border=\"1\" class=\"dataframe\">\n",
       "  <thead>\n",
       "    <tr style=\"text-align: right;\">\n",
       "      <th></th>\n",
       "      <th>houseCode</th>\n",
       "      <th>signPrice</th>\n",
       "      <th>listPrice</th>\n",
       "      <th>dealCycle</th>\n",
       "      <th>houseAreaNum</th>\n",
       "      <th>year</th>\n",
       "      <th>buildingType</th>\n",
       "      <th>orientation</th>\n",
       "      <th>decorationType</th>\n",
       "      <th>districtName</th>\n",
       "      <th>subwayInfo</th>\n",
       "      <th>floorInfo</th>\n",
       "      <th>longitude</th>\n",
       "      <th>latitude</th>\n",
       "    </tr>\n",
       "  </thead>\n",
       "  <tbody>\n",
       "    <tr>\n",
       "      <td>0</td>\n",
       "      <td>103102446612</td>\n",
       "      <td>338</td>\n",
       "      <td>330.0</td>\n",
       "      <td>489</td>\n",
       "      <td>124.61</td>\n",
       "      <td>2013.0</td>\n",
       "      <td>板塔结合</td>\n",
       "      <td>西</td>\n",
       "      <td>精装</td>\n",
       "      <td>余杭</td>\n",
       "      <td>NaN</td>\n",
       "      <td>低楼层(共31层)</td>\n",
       "      <td>120.12604</td>\n",
       "      <td>30.371922</td>\n",
       "    </tr>\n",
       "    <tr>\n",
       "      <td>1</td>\n",
       "      <td>103105625157</td>\n",
       "      <td>222</td>\n",
       "      <td>230.0</td>\n",
       "      <td>29</td>\n",
       "      <td>89.02</td>\n",
       "      <td>2013.0</td>\n",
       "      <td>板塔结合</td>\n",
       "      <td>东</td>\n",
       "      <td>其他</td>\n",
       "      <td>余杭</td>\n",
       "      <td>NaN</td>\n",
       "      <td>低楼层(共16层)</td>\n",
       "      <td>120.12604</td>\n",
       "      <td>30.371922</td>\n",
       "    </tr>\n",
       "    <tr>\n",
       "      <td>2</td>\n",
       "      <td>103105256418</td>\n",
       "      <td>200</td>\n",
       "      <td>230.0</td>\n",
       "      <td>30</td>\n",
       "      <td>86.71</td>\n",
       "      <td>2013.0</td>\n",
       "      <td>板塔结合</td>\n",
       "      <td>南</td>\n",
       "      <td>简装</td>\n",
       "      <td>余杭</td>\n",
       "      <td>NaN</td>\n",
       "      <td>高楼层(共16层)</td>\n",
       "      <td>120.12604</td>\n",
       "      <td>30.371922</td>\n",
       "    </tr>\n",
       "    <tr>\n",
       "      <td>3</td>\n",
       "      <td>103105570833</td>\n",
       "      <td>197</td>\n",
       "      <td>199.0</td>\n",
       "      <td>25</td>\n",
       "      <td>52.55</td>\n",
       "      <td>1998.0</td>\n",
       "      <td>板楼</td>\n",
       "      <td>南</td>\n",
       "      <td>简装</td>\n",
       "      <td>西湖</td>\n",
       "      <td>NaN</td>\n",
       "      <td>低楼层(共7层)</td>\n",
       "      <td>120.10920</td>\n",
       "      <td>30.285497</td>\n",
       "    </tr>\n",
       "    <tr>\n",
       "      <td>4</td>\n",
       "      <td>103103129507</td>\n",
       "      <td>388</td>\n",
       "      <td>400.0</td>\n",
       "      <td>65</td>\n",
       "      <td>148.70</td>\n",
       "      <td>2000.0</td>\n",
       "      <td>板楼</td>\n",
       "      <td>南</td>\n",
       "      <td>其他</td>\n",
       "      <td>西湖</td>\n",
       "      <td>NaN</td>\n",
       "      <td>低楼层(共7层)</td>\n",
       "      <td>120.10920</td>\n",
       "      <td>30.285497</td>\n",
       "    </tr>\n",
       "  </tbody>\n",
       "</table>\n",
       "</div>"
      ],
      "text/plain": [
       "      houseCode  signPrice  listPrice dealCycle  houseAreaNum    year  \\\n",
       "0  103102446612        338      330.0       489        124.61  2013.0   \n",
       "1  103105625157        222      230.0        29         89.02  2013.0   \n",
       "2  103105256418        200      230.0        30         86.71  2013.0   \n",
       "3  103105570833        197      199.0        25         52.55  1998.0   \n",
       "4  103103129507        388      400.0        65        148.70  2000.0   \n",
       "\n",
       "  buildingType orientation decorationType districtName subwayInfo  floorInfo  \\\n",
       "0         板塔结合           西             精装           余杭        NaN  低楼层(共31层)   \n",
       "1         板塔结合           东             其他           余杭        NaN  低楼层(共16层)   \n",
       "2         板塔结合           南             简装           余杭        NaN  高楼层(共16层)   \n",
       "3           板楼           南             简装           西湖        NaN   低楼层(共7层)   \n",
       "4           板楼           南             其他           西湖        NaN   低楼层(共7层)   \n",
       "\n",
       "   longitude   latitude  \n",
       "0  120.12604  30.371922  \n",
       "1  120.12604  30.371922  \n",
       "2  120.12604  30.371922  \n",
       "3  120.10920  30.285497  \n",
       "4  120.10920  30.285497  "
      ]
     },
     "execution_count": 6,
     "metadata": {},
     "output_type": "execute_result"
    }
   ],
   "source": [
    "soldinfo.head(5)"
   ]
  },
  {
   "cell_type": "code",
   "execution_count": 7,
   "metadata": {},
   "outputs": [
    {
     "data": {
      "text/html": [
       "<div>\n",
       "<style scoped>\n",
       "    .dataframe tbody tr th:only-of-type {\n",
       "        vertical-align: middle;\n",
       "    }\n",
       "\n",
       "    .dataframe tbody tr th {\n",
       "        vertical-align: top;\n",
       "    }\n",
       "\n",
       "    .dataframe thead th {\n",
       "        text-align: right;\n",
       "    }\n",
       "</style>\n",
       "<table border=\"1\" class=\"dataframe\">\n",
       "  <thead>\n",
       "    <tr style=\"text-align: right;\">\n",
       "      <th></th>\n",
       "      <th>houseCode</th>\n",
       "      <th>buildingArea</th>\n",
       "      <th>year</th>\n",
       "      <th>orientation</th>\n",
       "      <th>totalFloor</th>\n",
       "      <th>decorationType</th>\n",
       "      <th>buildingType</th>\n",
       "      <th>districtName</th>\n",
       "      <th>subwayInfo</th>\n",
       "      <th>price</th>\n",
       "      <th>longitude</th>\n",
       "      <th>latitude</th>\n",
       "    </tr>\n",
       "  </thead>\n",
       "  <tbody>\n",
       "    <tr>\n",
       "      <td>0</td>\n",
       "      <td>103106618262</td>\n",
       "      <td>65.70</td>\n",
       "      <td>1989年建</td>\n",
       "      <td>南</td>\n",
       "      <td>6</td>\n",
       "      <td>精装</td>\n",
       "      <td>板楼</td>\n",
       "      <td>西湖</td>\n",
       "      <td>NaN</td>\n",
       "      <td>255.0</td>\n",
       "      <td>120.125758</td>\n",
       "      <td>30.297063</td>\n",
       "    </tr>\n",
       "    <tr>\n",
       "      <td>1</td>\n",
       "      <td>103104269749</td>\n",
       "      <td>66.68</td>\n",
       "      <td>1989年建</td>\n",
       "      <td>南</td>\n",
       "      <td>6</td>\n",
       "      <td>精装</td>\n",
       "      <td>板楼</td>\n",
       "      <td>西湖</td>\n",
       "      <td>NaN</td>\n",
       "      <td>243.0</td>\n",
       "      <td>120.125758</td>\n",
       "      <td>30.297063</td>\n",
       "    </tr>\n",
       "    <tr>\n",
       "      <td>2</td>\n",
       "      <td>103106605768</td>\n",
       "      <td>41.09</td>\n",
       "      <td>1989年建</td>\n",
       "      <td>南</td>\n",
       "      <td>6</td>\n",
       "      <td>简装</td>\n",
       "      <td>板楼</td>\n",
       "      <td>西湖</td>\n",
       "      <td>近地铁</td>\n",
       "      <td>169.0</td>\n",
       "      <td>120.125758</td>\n",
       "      <td>30.297063</td>\n",
       "    </tr>\n",
       "    <tr>\n",
       "      <td>3</td>\n",
       "      <td>103106759096</td>\n",
       "      <td>89.00</td>\n",
       "      <td>2012年建</td>\n",
       "      <td>南</td>\n",
       "      <td>25</td>\n",
       "      <td>精装</td>\n",
       "      <td>板楼</td>\n",
       "      <td>西湖</td>\n",
       "      <td>NaN</td>\n",
       "      <td>365.0</td>\n",
       "      <td>120.082526</td>\n",
       "      <td>30.340091</td>\n",
       "    </tr>\n",
       "    <tr>\n",
       "      <td>4</td>\n",
       "      <td>103106015674</td>\n",
       "      <td>89.51</td>\n",
       "      <td>2012年建</td>\n",
       "      <td>南</td>\n",
       "      <td>26</td>\n",
       "      <td>精装</td>\n",
       "      <td>板楼</td>\n",
       "      <td>西湖</td>\n",
       "      <td>近地铁</td>\n",
       "      <td>358.0</td>\n",
       "      <td>120.082526</td>\n",
       "      <td>30.340091</td>\n",
       "    </tr>\n",
       "  </tbody>\n",
       "</table>\n",
       "</div>"
      ],
      "text/plain": [
       "      houseCode  buildingArea    year orientation  totalFloor decorationType  \\\n",
       "0  103106618262         65.70  1989年建           南           6             精装   \n",
       "1  103104269749         66.68  1989年建           南           6             精装   \n",
       "2  103106605768         41.09  1989年建           南           6             简装   \n",
       "3  103106759096         89.00  2012年建           南          25             精装   \n",
       "4  103106015674         89.51  2012年建           南          26             精装   \n",
       "\n",
       "  buildingType districtName subwayInfo  price   longitude   latitude  \n",
       "0           板楼           西湖        NaN  255.0  120.125758  30.297063  \n",
       "1           板楼           西湖        NaN  243.0  120.125758  30.297063  \n",
       "2           板楼           西湖        近地铁  169.0  120.125758  30.297063  \n",
       "3           板楼           西湖        NaN  365.0  120.082526  30.340091  \n",
       "4           板楼           西湖        近地铁  358.0  120.082526  30.340091  "
      ]
     },
     "execution_count": 7,
     "metadata": {},
     "output_type": "execute_result"
    }
   ],
   "source": [
    "sellinfo.head(5)"
   ]
  },
  {
   "cell_type": "code",
   "execution_count": 8,
   "metadata": {},
   "outputs": [],
   "source": [
    "'''将建造年份转换为数字类型'''\n",
    "import re\n",
    "\n",
    "year_scaler = lambda x : ''.join(re.findall('\\d+', x.__str__()))\n",
    "soldinfo['year'] = soldinfo['year'].apply(int)\n",
    "soldinfo['year'] = soldinfo['year'].astype('int16')\n",
    "\n",
    "sellinfo['year'] = sellinfo['year'].apply(year_scaler)\n",
    "sellinfo['year'] = sellinfo['year'].astype('int16')"
   ]
  },
  {
   "cell_type": "code",
   "execution_count": 9,
   "metadata": {},
   "outputs": [],
   "source": [
    "'''处理文本和属性分类'''\n",
    "orientation_scaler = lambda x:''.join(sorted(list(set(x.replace(' ', '')))))\n",
    "\n",
    "soldinfo['orientation'] = soldinfo['orientation'].apply(orientation_scaler)\n",
    "sellinfo['orientation'] = sellinfo['orientation'].apply(orientation_scaler)"
   ]
  },
  {
   "cell_type": "code",
   "execution_count": 10,
   "metadata": {},
   "outputs": [
    {
     "name": "stderr",
     "output_type": "stream",
     "text": [
      "c:\\python\\lib\\site-packages\\sklearn\\preprocessing\\label.py:235: DataConversionWarning: A column-vector y was passed when a 1d array was expected. Please change the shape of y to (n_samples, ), for example using ravel().\n",
      "  y = column_or_1d(y, warn=True)\n"
     ]
    }
   ],
   "source": [
    "'''将文本转化为数字分类'''\n",
    "from sklearn.preprocessing import LabelEncoder\n",
    "\n",
    "encoder = LabelEncoder()\n",
    "\n",
    "# sellinfo['orientation'] = encoder.fit_transform(sellinfo[['orientation']])   # 对朝向数据文本进行转换\n",
    "# sellinfo_ori_col = encoder.classes_   # 获取数字代表的朝向\n",
    "# soldinfo['orientation'] = encoder.fit_transform(soldinfo[['orientation']])   # 对朝向进行转换\n",
    "# soldinfo_ori_enc_col = encoder.classes_   # 获取数字代表的朝向\n",
    "\n",
    "sellinfo = sellinfo[~sellinfo['buildingType'].isin(['暂无数据'])]   # 删除楼房类型数据文本的空值\n",
    "soldinfo = soldinfo[~soldinfo['buildingType'].isin(['暂无数据'])]\n",
    "\n",
    "sellinfo['buildingType'] = encoder.fit_transform(sellinfo[['buildingType']])   # 对楼房类型数据文本进行转换\n",
    "sellinfo_bt_col = encoder.classes_   # 获取数字代表楼房类型\n",
    "soldinfo['buildingType'] = encoder.fit_transform(soldinfo[['buildingType']])\n",
    "soldinfo_bt_col = encoder.classes_\n",
    "\n",
    "sellinfo = sellinfo[~sellinfo['decorationType'].isin(['其他'])]\n",
    "soldinfo = soldinfo[~soldinfo['decorationType'].isin(['其他'])]\n",
    "\n",
    "sellinfo['decorationType'] = encoder.fit_transform(sellinfo[['decorationType']])   # 对装修类型数据文本进行转换\n",
    "sellinfo_dt_co = encoder.classes_   # 获取数字代表装修类型\n",
    "soldinfo['decorationType'] = encoder.fit_transform(soldinfo[['decorationType']])\n",
    "soldinfo_dt_co = encoder.classes_\n",
    "\n",
    "sellinfo['districtName'] = encoder.fit_transform(sellinfo[['districtName']])   # 对所在区域数据文本进行转换\n",
    "sellinfo_dn_co = encoder.classes_   # 获取区代表装修类型\n",
    "soldinfo['districtName'] = encoder.fit_transform(soldinfo[['districtName']])\n",
    "soldinfo_dn_co = encoder.classes_"
   ]
  },
  {
   "cell_type": "code",
   "execution_count": 11,
   "metadata": {},
   "outputs": [
    {
     "data": {
      "text/plain": [
       "<9303x15 sparse matrix of type '<class 'numpy.float64'>'\n",
       "\twith 9303 stored elements in Compressed Sparse Row format>"
      ]
     },
     "execution_count": 11,
     "metadata": {},
     "output_type": "execute_result"
    }
   ],
   "source": [
    "'''转化为独热编码'''\n",
    "from sklearn.preprocessing import OneHotEncoder\n",
    "\n",
    "encoder = OneHotEncoder()\n",
    "\n",
    "sellinfo_ori_hot = encoder.fit_transform(np.array(sellinfo['orientation'].copy()).reshape(-1, 1))\n",
    "soldinfo_ori_hot = encoder.fit_transform(np.array(soldinfo['orientation'].copy()).reshape(-1, 1))\n",
    "sellinfo_ori_hot"
   ]
  },
  {
   "cell_type": "code",
   "execution_count": 12,
   "metadata": {},
   "outputs": [
    {
     "data": {
      "text/plain": [
       "近地铁    3896\n",
       "Name: subwayInfo, dtype: int64"
      ]
     },
     "execution_count": 12,
     "metadata": {},
     "output_type": "execute_result"
    }
   ],
   "source": [
    "sellinfo['subwayInfo'].value_counts()"
   ]
  },
  {
   "cell_type": "code",
   "execution_count": 13,
   "metadata": {},
   "outputs": [],
   "source": [
    "sellinfo[['subwayInfo']] = sellinfo[['subwayInfo']].fillna(0)\n",
    "sellinfo['subwayInfo'] = sellinfo['subwayInfo'].apply(lambda x:1 if x=='近地铁' else 0)\n",
    "\n",
    "soldinfo[['subwayInfo']] = soldinfo[['subwayInfo']].fillna(0)\n",
    "soldinfo['subwayInfo'] = soldinfo['subwayInfo'].apply(lambda x:1 if x=='近地铁' else 0)"
   ]
  },
  {
   "cell_type": "code",
   "execution_count": 14,
   "metadata": {},
   "outputs": [],
   "source": [
    "soldinfo['floorInfo'] = soldinfo['floorInfo'].apply(lambda x:int(''.join(list(filter(str.isdigit, x)))))"
   ]
  },
  {
   "cell_type": "code",
   "execution_count": 15,
   "metadata": {},
   "outputs": [],
   "source": [
    "sold_strict_index = soldinfo.districtName.value_counts().index\n",
    "sell_strict_index = sellinfo.districtName.value_counts().index\n",
    "\n",
    "# 求售出记录中每个区平均折扣，并用折扣乘以在售数据房价\n",
    "for i in sold_strict_index:\n",
    "    sale = sum(soldinfo[soldinfo.districtName == i].signPrice / soldinfo[soldinfo.districtName == i].listPrice) / len(soldinfo[soldinfo.districtName == i])\n",
    "    sellinfo.loc[(sellinfo.districtName == i), 'price'] = sellinfo[sellinfo.districtName == i].price * sale\n",
    "    sellinfo['price'] = sellinfo['price'].round(decimals=2)\n",
    "\n",
    "# 删除无用数据\n",
    "soldinfo = soldinfo.drop(['listPrice', 'dealCycle'], axis=1)"
   ]
  },
  {
   "cell_type": "code",
   "execution_count": 16,
   "metadata": {},
   "outputs": [],
   "source": [
    "# 修改列名使两个数据集列名保持一致\n",
    "sellinfo.rename(columns={'buildingArea':'houseAreaNum'}, inplace=True)\n",
    "soldinfo.rename(columns={'floorInfo':'totalFloor', 'signPrice':'price'}, inplace=True)\n",
    "\n",
    "# 修改列的顺序并保持一致\n",
    "sellinfo = sellinfo[['houseCode','price','houseAreaNum','year','buildingType','orientation','decorationType','districtName','subwayInfo','totalFloor','longitude','latitude']]"
   ]
  },
  {
   "cell_type": "code",
   "execution_count": 19,
   "metadata": {},
   "outputs": [],
   "source": [
    "# 得到拼接完成的数据\n",
    "info = pd.concat([sellinfo, soldinfo])\n",
    "\n",
    "info['houseCode'] = info['houseCode'].apply(lambda x:0 if not str(x).isdigit() else x)\n",
    "info = info.drop(info[info.houseCode == 0].index)\n",
    "info.index = range(1, len(info) + 1)\n",
    "\n",
    "# 转换为整型数据\n",
    "info['longitude'] = info['longitude'].apply(lambda x:x * 10000)\n",
    "info['latitude'] = info['latitude'].apply(lambda x:x* 10000)\n",
    "\n",
    "info['orientation_east'] = 0\n",
    "info['orientation_west'] = 0\n",
    "info['orientation_south'] = 0\n",
    "info['orientation_north'] = 0\n",
    "\n",
    "for i, j in enumerate(info.orientation):\n",
    "    if '东' in str(j):\n",
    "        info.loc[i, 'orientation_east'] = 1\n",
    "    if '南' in str(j):\n",
    "        info.loc[i, 'orientation_south'] = 1\n",
    "    if '西' in str(j):\n",
    "        info.loc[i, 'orientation_west'] = 1\n",
    "    if '北' in str(j):\n",
    "        info.loc[i, 'orientation_north'] = 1\n",
    "\n",
    "info = info.drop(['orientation'], axis=1)\n",
    "info = info.dropna()\n",
    "\n",
    "info = info.astype('int64')"
   ]
  },
  {
   "cell_type": "code",
   "execution_count": 20,
   "metadata": {},
   "outputs": [
    {
     "data": {
      "text/html": [
       "<div>\n",
       "<style scoped>\n",
       "    .dataframe tbody tr th:only-of-type {\n",
       "        vertical-align: middle;\n",
       "    }\n",
       "\n",
       "    .dataframe tbody tr th {\n",
       "        vertical-align: top;\n",
       "    }\n",
       "\n",
       "    .dataframe thead th {\n",
       "        text-align: right;\n",
       "    }\n",
       "</style>\n",
       "<table border=\"1\" class=\"dataframe\">\n",
       "  <thead>\n",
       "    <tr style=\"text-align: right;\">\n",
       "      <th></th>\n",
       "      <th>houseCode</th>\n",
       "      <th>price</th>\n",
       "      <th>houseAreaNum</th>\n",
       "      <th>year</th>\n",
       "      <th>buildingType</th>\n",
       "      <th>decorationType</th>\n",
       "      <th>districtName</th>\n",
       "      <th>subwayInfo</th>\n",
       "      <th>totalFloor</th>\n",
       "      <th>longitude</th>\n",
       "      <th>latitude</th>\n",
       "      <th>orientation_east</th>\n",
       "      <th>orientation_west</th>\n",
       "      <th>orientation_south</th>\n",
       "      <th>orientation_north</th>\n",
       "    </tr>\n",
       "  </thead>\n",
       "  <tbody>\n",
       "    <tr>\n",
       "      <td>1</td>\n",
       "      <td>103106618262</td>\n",
       "      <td>242</td>\n",
       "      <td>65</td>\n",
       "      <td>1989</td>\n",
       "      <td>3</td>\n",
       "      <td>2</td>\n",
       "      <td>10</td>\n",
       "      <td>0</td>\n",
       "      <td>6</td>\n",
       "      <td>1201257</td>\n",
       "      <td>302970</td>\n",
       "      <td>0</td>\n",
       "      <td>0</td>\n",
       "      <td>1</td>\n",
       "      <td>0</td>\n",
       "    </tr>\n",
       "    <tr>\n",
       "      <td>2</td>\n",
       "      <td>103104269749</td>\n",
       "      <td>230</td>\n",
       "      <td>66</td>\n",
       "      <td>1989</td>\n",
       "      <td>3</td>\n",
       "      <td>2</td>\n",
       "      <td>10</td>\n",
       "      <td>0</td>\n",
       "      <td>6</td>\n",
       "      <td>1201257</td>\n",
       "      <td>302970</td>\n",
       "      <td>0</td>\n",
       "      <td>0</td>\n",
       "      <td>1</td>\n",
       "      <td>0</td>\n",
       "    </tr>\n",
       "    <tr>\n",
       "      <td>3</td>\n",
       "      <td>103106605768</td>\n",
       "      <td>160</td>\n",
       "      <td>41</td>\n",
       "      <td>1989</td>\n",
       "      <td>3</td>\n",
       "      <td>1</td>\n",
       "      <td>10</td>\n",
       "      <td>1</td>\n",
       "      <td>6</td>\n",
       "      <td>1201257</td>\n",
       "      <td>302970</td>\n",
       "      <td>0</td>\n",
       "      <td>0</td>\n",
       "      <td>1</td>\n",
       "      <td>0</td>\n",
       "    </tr>\n",
       "    <tr>\n",
       "      <td>4</td>\n",
       "      <td>103106759096</td>\n",
       "      <td>346</td>\n",
       "      <td>89</td>\n",
       "      <td>2012</td>\n",
       "      <td>3</td>\n",
       "      <td>2</td>\n",
       "      <td>10</td>\n",
       "      <td>0</td>\n",
       "      <td>25</td>\n",
       "      <td>1200825</td>\n",
       "      <td>303400</td>\n",
       "      <td>0</td>\n",
       "      <td>0</td>\n",
       "      <td>1</td>\n",
       "      <td>0</td>\n",
       "    </tr>\n",
       "    <tr>\n",
       "      <td>5</td>\n",
       "      <td>103106015674</td>\n",
       "      <td>339</td>\n",
       "      <td>89</td>\n",
       "      <td>2012</td>\n",
       "      <td>3</td>\n",
       "      <td>2</td>\n",
       "      <td>10</td>\n",
       "      <td>1</td>\n",
       "      <td>26</td>\n",
       "      <td>1200825</td>\n",
       "      <td>303400</td>\n",
       "      <td>0</td>\n",
       "      <td>0</td>\n",
       "      <td>1</td>\n",
       "      <td>0</td>\n",
       "    </tr>\n",
       "    <tr>\n",
       "      <td>...</td>\n",
       "      <td>...</td>\n",
       "      <td>...</td>\n",
       "      <td>...</td>\n",
       "      <td>...</td>\n",
       "      <td>...</td>\n",
       "      <td>...</td>\n",
       "      <td>...</td>\n",
       "      <td>...</td>\n",
       "      <td>...</td>\n",
       "      <td>...</td>\n",
       "      <td>...</td>\n",
       "      <td>...</td>\n",
       "      <td>...</td>\n",
       "      <td>...</td>\n",
       "      <td>...</td>\n",
       "    </tr>\n",
       "    <tr>\n",
       "      <td>15414</td>\n",
       "      <td>103106564779</td>\n",
       "      <td>238</td>\n",
       "      <td>84</td>\n",
       "      <td>2011</td>\n",
       "      <td>3</td>\n",
       "      <td>2</td>\n",
       "      <td>10</td>\n",
       "      <td>1</td>\n",
       "      <td>32</td>\n",
       "      <td>1203542</td>\n",
       "      <td>303106</td>\n",
       "      <td>1</td>\n",
       "      <td>1</td>\n",
       "      <td>0</td>\n",
       "      <td>0</td>\n",
       "    </tr>\n",
       "    <tr>\n",
       "      <td>15415</td>\n",
       "      <td>103106077675</td>\n",
       "      <td>143</td>\n",
       "      <td>53</td>\n",
       "      <td>2007</td>\n",
       "      <td>3</td>\n",
       "      <td>2</td>\n",
       "      <td>3</td>\n",
       "      <td>0</td>\n",
       "      <td>6</td>\n",
       "      <td>1202532</td>\n",
       "      <td>303937</td>\n",
       "      <td>0</td>\n",
       "      <td>0</td>\n",
       "      <td>1</td>\n",
       "      <td>0</td>\n",
       "    </tr>\n",
       "    <tr>\n",
       "      <td>15416</td>\n",
       "      <td>103106119385</td>\n",
       "      <td>192</td>\n",
       "      <td>89</td>\n",
       "      <td>2009</td>\n",
       "      <td>3</td>\n",
       "      <td>2</td>\n",
       "      <td>3</td>\n",
       "      <td>0</td>\n",
       "      <td>33</td>\n",
       "      <td>1202774</td>\n",
       "      <td>304056</td>\n",
       "      <td>1</td>\n",
       "      <td>0</td>\n",
       "      <td>1</td>\n",
       "      <td>0</td>\n",
       "    </tr>\n",
       "    <tr>\n",
       "      <td>15417</td>\n",
       "      <td>103105976922</td>\n",
       "      <td>325</td>\n",
       "      <td>82</td>\n",
       "      <td>2011</td>\n",
       "      <td>3</td>\n",
       "      <td>2</td>\n",
       "      <td>10</td>\n",
       "      <td>1</td>\n",
       "      <td>24</td>\n",
       "      <td>1203334</td>\n",
       "      <td>303188</td>\n",
       "      <td>0</td>\n",
       "      <td>0</td>\n",
       "      <td>1</td>\n",
       "      <td>0</td>\n",
       "    </tr>\n",
       "    <tr>\n",
       "      <td>15418</td>\n",
       "      <td>103106510811</td>\n",
       "      <td>168</td>\n",
       "      <td>62</td>\n",
       "      <td>2010</td>\n",
       "      <td>3</td>\n",
       "      <td>1</td>\n",
       "      <td>9</td>\n",
       "      <td>0</td>\n",
       "      <td>18</td>\n",
       "      <td>1200750</td>\n",
       "      <td>303428</td>\n",
       "      <td>0</td>\n",
       "      <td>0</td>\n",
       "      <td>0</td>\n",
       "      <td>0</td>\n",
       "    </tr>\n",
       "  </tbody>\n",
       "</table>\n",
       "<p>15418 rows × 15 columns</p>\n",
       "</div>"
      ],
      "text/plain": [
       "          houseCode  price  houseAreaNum  year  buildingType  decorationType  \\\n",
       "1      103106618262    242            65  1989             3               2   \n",
       "2      103104269749    230            66  1989             3               2   \n",
       "3      103106605768    160            41  1989             3               1   \n",
       "4      103106759096    346            89  2012             3               2   \n",
       "5      103106015674    339            89  2012             3               2   \n",
       "...             ...    ...           ...   ...           ...             ...   \n",
       "15414  103106564779    238            84  2011             3               2   \n",
       "15415  103106077675    143            53  2007             3               2   \n",
       "15416  103106119385    192            89  2009             3               2   \n",
       "15417  103105976922    325            82  2011             3               2   \n",
       "15418  103106510811    168            62  2010             3               1   \n",
       "\n",
       "       districtName  subwayInfo  totalFloor  longitude  latitude  \\\n",
       "1                10           0           6    1201257    302970   \n",
       "2                10           0           6    1201257    302970   \n",
       "3                10           1           6    1201257    302970   \n",
       "4                10           0          25    1200825    303400   \n",
       "5                10           1          26    1200825    303400   \n",
       "...             ...         ...         ...        ...       ...   \n",
       "15414            10           1          32    1203542    303106   \n",
       "15415             3           0           6    1202532    303937   \n",
       "15416             3           0          33    1202774    304056   \n",
       "15417            10           1          24    1203334    303188   \n",
       "15418             9           0          18    1200750    303428   \n",
       "\n",
       "       orientation_east  orientation_west  orientation_south  \\\n",
       "1                     0                 0                  1   \n",
       "2                     0                 0                  1   \n",
       "3                     0                 0                  1   \n",
       "4                     0                 0                  1   \n",
       "5                     0                 0                  1   \n",
       "...                 ...               ...                ...   \n",
       "15414                 1                 1                  0   \n",
       "15415                 0                 0                  1   \n",
       "15416                 1                 0                  1   \n",
       "15417                 0                 0                  1   \n",
       "15418                 0                 0                  0   \n",
       "\n",
       "       orientation_north  \n",
       "1                      0  \n",
       "2                      0  \n",
       "3                      0  \n",
       "4                      0  \n",
       "5                      0  \n",
       "...                  ...  \n",
       "15414                  0  \n",
       "15415                  0  \n",
       "15416                  0  \n",
       "15417                  0  \n",
       "15418                  0  \n",
       "\n",
       "[15418 rows x 15 columns]"
      ]
     },
     "execution_count": 20,
     "metadata": {},
     "output_type": "execute_result"
    }
   ],
   "source": [
    "# 数据清洗完成\n",
    "info"
   ]
  },
  {
   "cell_type": "markdown",
   "metadata": {},
   "source": [
    "## 根据每条数据的id的哈希值来区分训练集和测试集\n",
    "   - test_radio： 区分度\n",
    "   - id_column： id所在列名\n",
    "   - 作用：可以防止当有新数据进来时，原顺序不会被打乱"
   ]
  },
  {
   "cell_type": "code",
   "execution_count": 21,
   "metadata": {},
   "outputs": [],
   "source": [
    "import hashlib\n",
    "\n",
    "def test_set_check(identifer, test_radio, hash = hashlib.md5):\n",
    "    return hash(np.int64(identifer)).digest()[-1] < 256 * test_radio  # 返回摘要,作为二进制数据字符串\n",
    "\n",
    "def split_train_test_by_id(data, test_radio, id_column):\n",
    "    ids = data[id_column]\n",
    "    judge_in_test_set = ids.apply(lambda id_:test_set_check(id_, test_radio))\n",
    "    return data.loc[-judge_in_test_set], data.loc[judge_in_test_set]"
   ]
  },
  {
   "cell_type": "code",
   "execution_count": 53,
   "metadata": {},
   "outputs": [],
   "source": [
    "train_info, test_info = split_train_test_by_id(info, 0.2, 'houseCode')\n",
    "train_label = train_info.iloc[:,1]\n",
    "train_info = train_info.iloc[:,2:]\n",
    "\n",
    "test_label = test_info.iloc[:,1]\n",
    "test_info = test_info.iloc[:,2:]"
   ]
  },
  {
   "cell_type": "code",
   "execution_count": 54,
   "metadata": {},
   "outputs": [],
   "source": [
    "from sklearn.neighbors import KNeighborsClassifier\n",
    "\n",
    "knn = KNeighborsClassifier(n_jobs=-1, weights='distance', n_neighbors=1)"
   ]
  },
  {
   "cell_type": "code",
   "execution_count": 55,
   "metadata": {},
   "outputs": [],
   "source": [
    "house_knn = knn.fit(train_info, train_label)"
   ]
  },
  {
   "cell_type": "code",
   "execution_count": 56,
   "metadata": {},
   "outputs": [
    {
     "data": {
      "text/plain": [
       "array([242, 398, 187, ..., 295, 180, 159], dtype=int64)"
      ]
     },
     "execution_count": 56,
     "metadata": {},
     "output_type": "execute_result"
    }
   ],
   "source": [
    "result = house_knn.predict(test_info)\n",
    "result"
   ]
  },
  {
   "cell_type": "code",
   "execution_count": 57,
   "metadata": {},
   "outputs": [
    {
     "data": {
      "text/plain": [
       "1701.7975266473227"
      ]
     },
     "execution_count": 57,
     "metadata": {},
     "output_type": "execute_result"
    }
   ],
   "source": [
    "from sklearn.metrics import mean_squared_error\n",
    "\n",
    "knn_mse = mean_squared_error(test_info.iloc[:, 1], result)\n",
    "knn_mse = np.sqrt(knn_mse)\n",
    "knn_mse"
   ]
  },
  {
   "cell_type": "code",
   "execution_count": 65,
   "metadata": {},
   "outputs": [
    {
     "data": {
      "text/plain": [
       "array([327], dtype=int64)"
      ]
     },
     "execution_count": 65,
     "metadata": {},
     "output_type": "execute_result"
    }
   ],
   "source": [
    "knn.predict(np.array([120, 2019, 3, 2, 1,1,33,1201334,303338,1,1,0,1]).reshape(1, -1))"
   ]
  },
  {
   "cell_type": "code",
   "execution_count": 79,
   "metadata": {},
   "outputs": [
    {
     "data": {
      "text/plain": [
       "0    8903\n",
       "1    6515\n",
       "Name: subwayInfo, dtype: int64"
      ]
     },
     "execution_count": 79,
     "metadata": {},
     "output_type": "execute_result"
    }
   ],
   "source": [
    "info.subwayInfo.value_counts()"
   ]
  },
  {
   "cell_type": "code",
   "execution_count": 73,
   "metadata": {},
   "outputs": [
    {
     "data": {
      "text/plain": [
       "array(['上城', '下城', '临安', '余杭', '富阳', '拱墅', '未知区域', '江干', '滨江', '萧山', '西湖',\n",
       "       '钱塘新区'], dtype=object)"
      ]
     },
     "execution_count": 73,
     "metadata": {},
     "output_type": "execute_result"
    }
   ],
   "source": [
    "se"
   ]
  },
  {
   "cell_type": "code",
   "execution_count": 60,
   "metadata": {},
   "outputs": [
    {
     "name": "stderr",
     "output_type": "stream",
     "text": [
      "c:\\python\\lib\\site-packages\\sklearn\\model_selection\\_split.py:657: Warning: The least populated class in y has only 1 members, which is too few. The minimum number of members in any class cannot be less than n_splits=10.\n",
      "  % (min_groups, self.n_splits)), Warning)\n"
     ]
    },
    {
     "data": {
      "text/plain": [
       "array([233.01207246, 100.19734459,  74.17775294, 102.64375233,\n",
       "        67.01645745,  67.41857448,  65.17875863,  59.44608344,\n",
       "        68.65561989,  80.36510471])"
      ]
     },
     "execution_count": 60,
     "metadata": {},
     "output_type": "execute_result"
    }
   ],
   "source": [
    "# 对模型进行交叉验证\n",
    "from sklearn.model_selection import cross_val_score\n",
    "\n",
    "scores = cross_val_score(knn, train_info, train_label,\n",
    "                         scoring=\"neg_mean_squared_error\", cv=10)\n",
    "tree_rmse_scores = np.sqrt(-scores)\n",
    "tree_rmse_scores"
   ]
  },
  {
   "cell_type": "code",
   "execution_count": 61,
   "metadata": {},
   "outputs": [
    {
     "data": {
      "text/plain": [
       "['knn.model']"
      ]
     },
     "execution_count": 61,
     "metadata": {},
     "output_type": "execute_result"
    }
   ],
   "source": [
    "from sklearn.externals import joblib\n",
    "\n",
    "joblib.dump(house_knn, 'knn.model')"
   ]
  },
  {
   "cell_type": "code",
   "execution_count": 62,
   "metadata": {},
   "outputs": [],
   "source": [
    "k = joblib.load('knn.model')"
   ]
  },
  {
   "cell_type": "code",
   "execution_count": 63,
   "metadata": {},
   "outputs": [
    {
     "data": {
      "text/plain": [
       "array([242, 398, 187, ..., 295, 180, 159], dtype=int64)"
      ]
     },
     "execution_count": 63,
     "metadata": {},
     "output_type": "execute_result"
    }
   ],
   "source": [
    "k.predict(test_info)"
   ]
  },
  {
   "cell_type": "code",
   "execution_count": null,
   "metadata": {},
   "outputs": [],
   "source": []
  }
 ],
 "metadata": {
  "kernelspec": {
   "display_name": "Python 3",
   "language": "python",
   "name": "python3"
  },
  "language_info": {
   "codemirror_mode": {
    "name": "ipython",
    "version": 3
   },
   "file_extension": ".py",
   "mimetype": "text/x-python",
   "name": "python",
   "nbconvert_exporter": "python",
   "pygments_lexer": "ipython3",
   "version": "3.7.3"
  }
 },
 "nbformat": 4,
 "nbformat_minor": 4
}
