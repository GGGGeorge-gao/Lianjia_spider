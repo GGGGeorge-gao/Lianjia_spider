{
 "cells": [
  {
   "cell_type": "code",
   "execution_count": 150,
   "metadata": {},
   "outputs": [],
   "source": [
    "import pandas as pd"
   ]
  },
  {
   "cell_type": "code",
   "execution_count": 151,
   "metadata": {},
   "outputs": [],
   "source": [
    "soldinfo = pd.read_table('soldinfo.txt', sep='\\t')\n",
    "sellinfo = pd.read_table('sellinfo.txt', sep='\\t')"
   ]
  },
  {
   "cell_type": "code",
   "execution_count": 152,
   "metadata": {},
   "outputs": [],
   "source": [
    "soldinfo = soldinfo.drop(['schoolInfo', 'titleString', 'framePicUrl', ], axis=1)"
   ]
  },
  {
   "cell_type": "code",
   "execution_count": 153,
   "metadata": {},
   "outputs": [
    {
     "data": {
      "text/plain": [
       "Index(['houseCode', 'signPrice', 'listPrice', 'dealCycle', 'signTime',\n",
       "       'houseAreaNum', 'unitPrice', 'resblockName', 'year', 'buildingType',\n",
       "       'elevator', 'isGarage', 'frameOrientation', 'decorationType',\n",
       "       'districtName', 'bizcircleName', 'districtId', 'subwayInfo',\n",
       "       'floorInfo', 'longitude', 'latitude'],\n",
       "      dtype='object')"
      ]
     },
     "execution_count": 153,
     "metadata": {},
     "output_type": "execute_result"
    }
   ],
   "source": [
    "soldinfo.columns"
   ]
  },
  {
   "cell_type": "code",
   "execution_count": 154,
   "metadata": {},
   "outputs": [],
   "source": [
    "soldinfo['longitude'] = soldinfo['longitude'].astype('object')\n",
    "soldinfo['latitude'] = soldinfo['latitude'].astype('object')"
   ]
  },
  {
   "cell_type": "code",
   "execution_count": 155,
   "metadata": {},
   "outputs": [
    {
     "name": "stdout",
     "output_type": "stream",
     "text": [
      "<class 'pandas.core.frame.DataFrame'>\n",
      "RangeIndex: 8187 entries, 0 to 8186\n",
      "Data columns (total 21 columns):\n",
      "houseCode           8187 non-null object\n",
      "signPrice           8187 non-null int64\n",
      "listPrice           8187 non-null float64\n",
      "dealCycle           8187 non-null object\n",
      "signTime            8187 non-null object\n",
      "houseAreaNum        8187 non-null float64\n",
      "unitPrice           8187 non-null int64\n",
      "resblockName        8187 non-null object\n",
      "year                7845 non-null float64\n",
      "buildingType        8187 non-null object\n",
      "elevator            8187 non-null object\n",
      "isGarage            8187 non-null bool\n",
      "frameOrientation    8187 non-null object\n",
      "decorationType      8187 non-null object\n",
      "districtName        8187 non-null object\n",
      "bizcircleName       8187 non-null object\n",
      "districtId          8187 non-null int64\n",
      "subwayInfo          3513 non-null object\n",
      "floorInfo           8187 non-null object\n",
      "longitude           8187 non-null object\n",
      "latitude            8187 non-null object\n",
      "dtypes: bool(1), float64(3), int64(3), object(14)\n",
      "memory usage: 1.3+ MB\n"
     ]
    }
   ],
   "source": [
    "soldinfo.info()"
   ]
  },
  {
   "cell_type": "code",
   "execution_count": 156,
   "metadata": {},
   "outputs": [],
   "source": [
    "soldinfo['经纬度'] = None"
   ]
  },
  {
   "cell_type": "code",
   "execution_count": 157,
   "metadata": {},
   "outputs": [],
   "source": [
    "sellinfo['经纬度'] = None"
   ]
  },
  {
   "cell_type": "code",
   "execution_count": 158,
   "metadata": {},
   "outputs": [
    {
     "name": "stderr",
     "output_type": "stream",
     "text": [
      "c:\\python\\lib\\site-packages\\ipykernel_launcher.py:2: SettingWithCopyWarning: \n",
      "A value is trying to be set on a copy of a slice from a DataFrame\n",
      "\n",
      "See the caveats in the documentation: http://pandas.pydata.org/pandas-docs/stable/user_guide/indexing.html#returning-a-view-versus-a-copy\n",
      "  \n"
     ]
    }
   ],
   "source": [
    "for i in range(len(soldinfo['latitude'])):\n",
    "    soldinfo['经纬度'][i] = str(round(soldinfo['longitude'][i], 6)) + ',' + str(round(soldinfo['latitude'][i], 6))"
   ]
  },
  {
   "cell_type": "code",
   "execution_count": 159,
   "metadata": {},
   "outputs": [
    {
     "name": "stderr",
     "output_type": "stream",
     "text": [
      "c:\\python\\lib\\site-packages\\ipykernel_launcher.py:2: SettingWithCopyWarning: \n",
      "A value is trying to be set on a copy of a slice from a DataFrame\n",
      "\n",
      "See the caveats in the documentation: http://pandas.pydata.org/pandas-docs/stable/user_guide/indexing.html#returning-a-view-versus-a-copy\n",
      "  \n"
     ]
    }
   ],
   "source": [
    "for i in range(len(sellinfo['latitude'])):\n",
    "    sellinfo['经纬度'][i] = str(round(sellinfo['longitude'][i], 6)) + ',' + str(round(sellinfo['latitude'][i], 6))"
   ]
  },
  {
   "cell_type": "code",
   "execution_count": 160,
   "metadata": {},
   "outputs": [],
   "source": [
    "soldinfo_map = soldinfo.loc[:, 'longitude':'经纬度'].copy()"
   ]
  },
  {
   "cell_type": "code",
   "execution_count": 161,
   "metadata": {},
   "outputs": [],
   "source": [
    "sellinfo_map = sellinfo.loc[:, 'longitude':'经纬度'].copy()"
   ]
  },
  {
   "cell_type": "code",
   "execution_count": 162,
   "metadata": {},
   "outputs": [],
   "source": [
    "soldinfo_map['unitPrice'] = soldinfo['unitPrice']\n",
    "soldinfo_map['signPrice'] = soldinfo['signPrice']\n",
    "soldinfo_map = soldinfo_map.drop(['longitude', 'latitude'], axis=1)"
   ]
  },
  {
   "cell_type": "code",
   "execution_count": 163,
   "metadata": {},
   "outputs": [
    {
     "data": {
      "text/html": [
       "<div>\n",
       "<style scoped>\n",
       "    .dataframe tbody tr th:only-of-type {\n",
       "        vertical-align: middle;\n",
       "    }\n",
       "\n",
       "    .dataframe tbody tr th {\n",
       "        vertical-align: top;\n",
       "    }\n",
       "\n",
       "    .dataframe thead th {\n",
       "        text-align: right;\n",
       "    }\n",
       "</style>\n",
       "<table border=\"1\" class=\"dataframe\">\n",
       "  <thead>\n",
       "    <tr style=\"text-align: right;\">\n",
       "      <th></th>\n",
       "      <th>经纬度</th>\n",
       "      <th>unitPrice</th>\n",
       "      <th>signPrice</th>\n",
       "    </tr>\n",
       "  </thead>\n",
       "  <tbody>\n",
       "    <tr>\n",
       "      <td>7907</td>\n",
       "      <td>120.232117,30.18971</td>\n",
       "      <td>20077</td>\n",
       "      <td>100</td>\n",
       "    </tr>\n",
       "    <tr>\n",
       "      <td>5191</td>\n",
       "      <td>120.209767,30.236305</td>\n",
       "      <td>42535</td>\n",
       "      <td>390</td>\n",
       "    </tr>\n",
       "    <tr>\n",
       "      <td>1657</td>\n",
       "      <td>120.294888,30.407117</td>\n",
       "      <td>24839</td>\n",
       "      <td>345</td>\n",
       "    </tr>\n",
       "    <tr>\n",
       "      <td>880</td>\n",
       "      <td>120.181926,30.225783</td>\n",
       "      <td>43641</td>\n",
       "      <td>199</td>\n",
       "    </tr>\n",
       "    <tr>\n",
       "      <td>7337</td>\n",
       "      <td>119.98271,30.059746</td>\n",
       "      <td>18706</td>\n",
       "      <td>260</td>\n",
       "    </tr>\n",
       "  </tbody>\n",
       "</table>\n",
       "</div>"
      ],
      "text/plain": [
       "                       经纬度  unitPrice  signPrice\n",
       "7907   120.232117,30.18971      20077        100\n",
       "5191  120.209767,30.236305      42535        390\n",
       "1657  120.294888,30.407117      24839        345\n",
       "880   120.181926,30.225783      43641        199\n",
       "7337   119.98271,30.059746      18706        260"
      ]
     },
     "execution_count": 163,
     "metadata": {},
     "output_type": "execute_result"
    }
   ],
   "source": [
    "soldinfo_map.sample(5)"
   ]
  },
  {
   "cell_type": "code",
   "execution_count": 164,
   "metadata": {},
   "outputs": [],
   "source": [
    "soldinfo_map.to_csv('soldinfo_map.csv', encoding='utf-8')"
   ]
  },
  {
   "cell_type": "code",
   "execution_count": 165,
   "metadata": {},
   "outputs": [],
   "source": [
    "sellinfo_map['unitPrice'] = sellinfo['unitPrice']\n",
    "sellinfo_map['signPrice'] = sellinfo['price']\n",
    "sellinfo_map = sellinfo_map.drop(['longitude', 'latitude'], axis=1)"
   ]
  },
  {
   "cell_type": "code",
   "execution_count": 166,
   "metadata": {},
   "outputs": [
    {
     "data": {
      "text/html": [
       "<div>\n",
       "<style scoped>\n",
       "    .dataframe tbody tr th:only-of-type {\n",
       "        vertical-align: middle;\n",
       "    }\n",
       "\n",
       "    .dataframe tbody tr th {\n",
       "        vertical-align: top;\n",
       "    }\n",
       "\n",
       "    .dataframe thead th {\n",
       "        text-align: right;\n",
       "    }\n",
       "</style>\n",
       "<table border=\"1\" class=\"dataframe\">\n",
       "  <thead>\n",
       "    <tr style=\"text-align: right;\">\n",
       "      <th></th>\n",
       "      <th>经纬度</th>\n",
       "      <th>unitPrice</th>\n",
       "      <th>signPrice</th>\n",
       "    </tr>\n",
       "  </thead>\n",
       "  <tbody>\n",
       "    <tr>\n",
       "      <td>211</td>\n",
       "      <td>120.141177,30.319607</td>\n",
       "      <td>44486</td>\n",
       "      <td>390.0</td>\n",
       "    </tr>\n",
       "    <tr>\n",
       "      <td>4160</td>\n",
       "      <td>120.165593,30.242666</td>\n",
       "      <td>66553</td>\n",
       "      <td>310.0</td>\n",
       "    </tr>\n",
       "    <tr>\n",
       "      <td>2865</td>\n",
       "      <td>119.968386,30.142823</td>\n",
       "      <td>22667</td>\n",
       "      <td>170.0</td>\n",
       "    </tr>\n",
       "    <tr>\n",
       "      <td>6455</td>\n",
       "      <td>120.109155,30.289385</td>\n",
       "      <td>58023</td>\n",
       "      <td>635.0</td>\n",
       "    </tr>\n",
       "    <tr>\n",
       "      <td>2021</td>\n",
       "      <td>120.209504,30.239026</td>\n",
       "      <td>54304</td>\n",
       "      <td>330.0</td>\n",
       "    </tr>\n",
       "  </tbody>\n",
       "</table>\n",
       "</div>"
      ],
      "text/plain": [
       "                       经纬度  unitPrice  signPrice\n",
       "211   120.141177,30.319607      44486      390.0\n",
       "4160  120.165593,30.242666      66553      310.0\n",
       "2865  119.968386,30.142823      22667      170.0\n",
       "6455  120.109155,30.289385      58023      635.0\n",
       "2021  120.209504,30.239026      54304      330.0"
      ]
     },
     "execution_count": 166,
     "metadata": {},
     "output_type": "execute_result"
    }
   ],
   "source": [
    "sellinfo_map.sample(5)"
   ]
  },
  {
   "cell_type": "code",
   "execution_count": 167,
   "metadata": {},
   "outputs": [],
   "source": [
    "sellinfo_map.to_csv('sellinfo_map.csv', encoding='utf-8')"
   ]
  },
  {
   "cell_type": "code",
   "execution_count": 168,
   "metadata": {},
   "outputs": [],
   "source": [
    "housing_map = pd.concat([sellinfo_map, soldinfo_map], axis=0)"
   ]
  },
  {
   "cell_type": "code",
   "execution_count": 176,
   "metadata": {},
   "outputs": [
    {
     "data": {
      "text/html": [
       "<div>\n",
       "<style scoped>\n",
       "    .dataframe tbody tr th:only-of-type {\n",
       "        vertical-align: middle;\n",
       "    }\n",
       "\n",
       "    .dataframe tbody tr th {\n",
       "        vertical-align: top;\n",
       "    }\n",
       "\n",
       "    .dataframe thead th {\n",
       "        text-align: right;\n",
       "    }\n",
       "</style>\n",
       "<table border=\"1\" class=\"dataframe\">\n",
       "  <thead>\n",
       "    <tr style=\"text-align: right;\">\n",
       "      <th></th>\n",
       "      <th>经纬度</th>\n",
       "      <th>unitPrice</th>\n",
       "      <th>signPrice</th>\n",
       "    </tr>\n",
       "  </thead>\n",
       "  <tbody>\n",
       "    <tr>\n",
       "      <td>1853</td>\n",
       "      <td>120.233528,30.356933</td>\n",
       "      <td>28090</td>\n",
       "      <td>250.0</td>\n",
       "    </tr>\n",
       "    <tr>\n",
       "      <td>1816</td>\n",
       "      <td>120.239044,30.351719</td>\n",
       "      <td>31235</td>\n",
       "      <td>192.0</td>\n",
       "    </tr>\n",
       "    <tr>\n",
       "      <td>4766</td>\n",
       "      <td>120.307223,30.432755</td>\n",
       "      <td>19445</td>\n",
       "      <td>144.0</td>\n",
       "    </tr>\n",
       "    <tr>\n",
       "      <td>7157</td>\n",
       "      <td>120.140063,30.305551</td>\n",
       "      <td>20000</td>\n",
       "      <td>72.0</td>\n",
       "    </tr>\n",
       "    <tr>\n",
       "      <td>7763</td>\n",
       "      <td>120.275103,30.331327</td>\n",
       "      <td>36236</td>\n",
       "      <td>308.0</td>\n",
       "    </tr>\n",
       "  </tbody>\n",
       "</table>\n",
       "</div>"
      ],
      "text/plain": [
       "                       经纬度  unitPrice  signPrice\n",
       "1853  120.233528,30.356933      28090      250.0\n",
       "1816  120.239044,30.351719      31235      192.0\n",
       "4766  120.307223,30.432755      19445      144.0\n",
       "7157  120.140063,30.305551      20000       72.0\n",
       "7763  120.275103,30.331327      36236      308.0"
      ]
     },
     "execution_count": 176,
     "metadata": {},
     "output_type": "execute_result"
    }
   ],
   "source": [
    "housing_map.sample(5)"
   ]
  },
  {
   "cell_type": "code",
   "execution_count": 177,
   "metadata": {},
   "outputs": [],
   "source": [
    "housing_map.to_csv('heatmap_data.csv', encoding='utf-8')"
   ]
  },
  {
   "cell_type": "code",
   "execution_count": null,
   "metadata": {},
   "outputs": [],
   "source": []
  }
 ],
 "metadata": {
  "kernelspec": {
   "display_name": "Python 3",
   "language": "python",
   "name": "python3"
  },
  "language_info": {
   "codemirror_mode": {
    "name": "ipython",
    "version": 3
   },
   "file_extension": ".py",
   "mimetype": "text/x-python",
   "name": "python",
   "nbconvert_exporter": "python",
   "pygments_lexer": "ipython3",
   "version": "3.7.3"
  }
 },
 "nbformat": 4,
 "nbformat_minor": 4
}
